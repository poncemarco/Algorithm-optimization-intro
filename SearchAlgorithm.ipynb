{
 "cells": [
  {
   "cell_type": "markdown",
   "metadata": {},
   "source": [
    "<h1>Algortimos de búsqueda con Python</h1>\n",
    "\n",
    "\n"
   ]
  },
  {
   "cell_type": "markdown",
   "metadata": {},
   "source": [
    "Para saber la diferencia de computo se agrega la siguiente funcion decoración para obtener los tiempos de computo : "
   ]
  },
  {
   "cell_type": "code",
   "execution_count": 1,
   "metadata": {},
   "outputs": [],
   "source": [
    "import time\n",
    "def timing_decorator(func):\n",
    "    def wrapper(*args, **kwargs):\n",
    "        start_time = time.time()\n",
    "        result = func(*args, **kwargs)\n",
    "        end_time = time.time()\n",
    "        elapsed_time = end_time - start_time\n",
    "        print(f\"Function '{func.__name__}' took {elapsed_time:.6f} seconds to execute.\")\n",
    "        return result\n",
    "    return wrapper"
   ]
  },
  {
   "cell_type": "markdown",
   "metadata": {},
   "source": [
    "<h2>Búsqueda secuencial</h2>\n",
    "\n",
    "<p>La búsqueda secuencial es un algoritmo simple que busca un elemento en una lista, uniendo uno por uno los elementos de la lista hasta que encuentra el elemento que está buscando o hasta que llega al final de la lista.</p>\n",
    "\n",
    "<ul>\n",
    "  <li>Inicializar el índice actual a 0.</li>\n",
    "  <li>Comparar el elemento en la posición actual de la lista con el valor que se está buscando.</li>\n",
    "  <li>Si los elementos son iguales, el algoritmo ha encontrado el elemento que está buscando y finaliza.</li>\n",
    "  <li>Si los elementos no son iguales, aumentar el índice actual en 1 y repetir el paso 2.</li>\n",
    "  <li>Si el índice actual alcanza el final de la lista, el algoritmo no ha encontrado el elemento que está buscando y finaliza.</li>\n",
    "</ul>\n",
    "\n",
    "<p>Aquí hay un ejemplo de cómo implementar el algoritmo de búsqueda secuencial en Python:</p>"
   ]
  },
  {
   "cell_type": "code",
   "execution_count": 7,
   "metadata": {},
   "outputs": [],
   "source": [
    "@timing_decorator\n",
    "def sequential_search(lst, target):\n",
    "    for i, element in enumerate(lst):\n",
    "        if element == target:\n",
    "            return i  # Returns the index where the element was found\n",
    "    return -1  # Returns -1 if the element is not found in the list"
   ]
  },
  {
   "cell_type": "markdown",
   "metadata": {},
   "source": [
    "La función sequential_search tiene una complejidad O(n), ya que depende totalmente del numero de elementos en el array lst. Y este sería un ejemplo de como utilizarlo:"
   ]
  },
  {
   "cell_type": "code",
   "execution_count": 8,
   "metadata": {},
   "outputs": [
    {
     "name": "stdout",
     "output_type": "stream",
     "text": [
      "Function 'sequential_search' took 0.000005 seconds to execute.\n",
      "The number 6 was found at index 2.\n"
     ]
    }
   ],
   "source": [
    "numbers = [10, 4, 6, 8, 2, 1, 7]\n",
    "target = 6\n",
    "found_index = sequential_search(numbers, target)\n",
    "\n",
    "if found_index != -1:\n",
    "    print(f\"The number {target} was found at index {found_index}.\")\n",
    "else:\n",
    "    print(f\"The number {target} was not found in the list.\")"
   ]
  },
  {
   "cell_type": "markdown",
   "metadata": {},
   "source": [
    "<h2> Búsqueda Dicotómica o Binaria </h2>\n",
    "es un algoritmo de búsqueda más eficiente que la búsqueda secuencial para listas ordenadas. En lugar de recorrer la lista uno por uno, la búsqueda binaria divide repetidamente la lista a la mitad y compara el elemento buscado con el elemento en el medio. Si el elemento buscado es igual al elemento en el medio, se ha encontrado. Si es menor, se busca en la mitad inferior de la lista; si es mayor, se busca en la mitad superior. Este proceso continúa hasta que se encuentre el elemento o se determine que no está presente. \n"
   ]
  },
  {
   "cell_type": "code",
   "execution_count": 9,
   "metadata": {},
   "outputs": [],
   "source": [
    "@timing_decorator\n",
    "def binary_search(sorted_list, target):\n",
    "    left, right = 0, len(sorted_list) - 1\n",
    "\n",
    "    while left <= right:\n",
    "        mid = (left + right) // 2\n",
    "        if sorted_list[mid] == target: \n",
    "            return mid # Returns the index where the target was found\n",
    "        elif sorted_list[mid] < target:\n",
    "            left = mid + 1\n",
    "        else: right = mid - 1\n",
    "    return -1"
   ]
  },
  {
   "cell_type": "markdown",
   "metadata": {},
   "source": [
    "La búsqueda binaria tiene una complejidad de tiempo de O(log n), lo que la hace muy eficiente para listas grandes. Aqui un ejemplo de como funciona: "
   ]
  },
  {
   "cell_type": "code",
   "execution_count": 10,
   "metadata": {},
   "outputs": [
    {
     "name": "stdout",
     "output_type": "stream",
     "text": [
      "Function 'binary_search' took 0.000007 seconds to execute.\n",
      "The number 6 was found at index 3.\n"
     ]
    }
   ],
   "source": [
    "# Usage example\n",
    "sorted_numbers = [1, 2, 4, 6, 7, 8, 10]\n",
    "target = 6\n",
    "\n",
    "found_index = binary_search(sorted_numbers, target)\n",
    "\n",
    "if found_index != -1:\n",
    "    print(f\"The number {target} was found at index {found_index}.\")\n",
    "else:\n",
    "    print(f\"The number {target} was not found in the list.\")"
   ]
  },
  {
   "cell_type": "markdown",
   "metadata": {},
   "source": [
    "Es probable que en pequeñas listas la diferencia de computo sea pequeño, inclusive los metodos con O(n) sean más rápidos, por ello es interesante tener en cuenta la siguiente grafica de la notación <strong>Big  O </strong>\n",
    "<div>\n",
    "<img src=\"https://www.campusmvp.es/recursos/image.axd?picture=/big-o-complejidad-algoritmica.png\" />\n",
    "</div>"
   ]
  },
  {
   "cell_type": "markdown",
   "metadata": {},
   "source": [
    "<h2>Búsqueda Hash</h2>\n",
    "Es un enfoque eficiente para recuperar valores de colección de datos basada en una clave única asociada a cada valor. Utiliza una función hash para convertir la clave en una ubicación especifica en la estructura de datos llamada tabla hash. \n",
    "Las tablas <strong>Hash</strong> normalmente es un arreglo de <strong>buckets</strong> o cubos donde los valores se almacenan. La busqueda en una tabla hash es muy rápida en promedio. "
   ]
  },
  {
   "cell_type": "code",
   "execution_count": 2,
   "metadata": {},
   "outputs": [],
   "source": [
    "class HashTable:\n",
    "    def __init__(self, size):\n",
    "        self.size = size #size of the hash table \n",
    "        self.table = [None] * size #create a list of size self.size with initial values None\n",
    "    \n",
    "    def _hash_function(self, key):\n",
    "        return hash(key) % self.size # Hash function to calculate the index hash table\n",
    "    \n",
    "    def insert(self, key, value):\n",
    "        index = self._hash_function(key) #Calculate the index using the _hash_function\n",
    "        if self.table[index] is None:\n",
    "            self.table[index] = [(key, value)] #if none in the index selected, create a list and add the key-value pair\n",
    "        else:\n",
    "            for i, (existing_key, _) in enumerate(self.table[index]): \n",
    "                if existing_key == key:\n",
    "                    self.table[index][i] = (key, value) #if the key already exists, update the value\n",
    "                    return\n",
    "                self.table[index].append((key, value)) #If there is not a colision, add the pair key-value\n",
    "    @timing_decorator\n",
    "    def get(self, key):\n",
    "        index = self._hash_function(key)\n",
    "        if self.table[index] is not None:\n",
    "            for existing_key, value in self.table[index]:\n",
    "                if existing_key == key:\n",
    "                    return value #If the key its found, return value asociated\n",
    "        return None\n",
    "    \n"
   ]
  },
  {
   "cell_type": "markdown",
   "metadata": {},
   "source": [
    "La busqueda de hash es muy rápida en promedio, ya que el acceso a los elementos se hace en un tiempo constante $O(1)$ en condiciones ideales. $\\\\$\n",
    "Acontinuación un ejemplo: \n"
   ]
  },
  {
   "cell_type": "code",
   "execution_count": 3,
   "metadata": {},
   "outputs": [
    {
     "name": "stdout",
     "output_type": "stream",
     "text": [
      "Function 'get' took 0.000006 seconds to execute.\n",
      "Function 'get' took 0.000018 seconds to execute.\n",
      "Function 'get' took 0.000013 seconds to execute.\n",
      "Name: John\n",
      "Age: 30\n",
      "Gender: None\n"
     ]
    }
   ],
   "source": [
    "# Crear una instancia de la tabla hash con tamaño 10\n",
    "hash_table = HashTable(size=10)\n",
    "\n",
    "# Insertar pares clave-valor en la tabla hash\n",
    "hash_table.insert(\"name\", \"John\")\n",
    "hash_table.insert(\"age\", 30)\n",
    "\n",
    "# Obtener valores utilizando claves\n",
    "name = hash_table.get(\"name\")\n",
    "age = hash_table.get(\"age\")\n",
    "gender = hash_table.get(\"gender\")\n",
    "\n",
    "# Imprimir los valores obtenidos\n",
    "print(\"Name:\", name)\n",
    "print(\"Age:\", age)\n",
    "print(\"Gender:\", gender)"
   ]
  },
  {
   "cell_type": "markdown",
   "metadata": {},
   "source": [
    "### Desventajas de la Búsqueda Hash\n",
    "\n",
    "Aunque la búsqueda hash tiene muchas ventajas, también presenta algunas desventajas que deben tenerse en cuenta:\n",
    "\n",
    "1. **Colisiones:** Una de las principales desventajas de la búsqueda hash es la posibilidad de colisiones. Las colisiones ocurren cuando dos claves diferentes se asignan a la misma ubicación en la tabla hash debido a la función de hash. Esto puede llevar a la pérdida de datos si no se manejan adecuadamente. Para evitar colisiones, se deben usar técnicas como encadenamiento (almacenar múltiples valores en un mismo índice usando una lista) o resolución por sondas (buscar el siguiente índice disponible).\n",
    "\n",
    "2. **Funciones de Hash Ineficientes:** Si la función de hash utilizada no distribuye uniformemente los valores en la tabla, puede aumentar la probabilidad de colisiones. Elegir o diseñar una función de hash eficiente es crucial para el rendimiento de la búsqueda hash.\n",
    "\n",
    "3. **Uso de Memoria:** Las tablas hash pueden consumir una cantidad significativa de memoria. Si la tabla se vuelve demasiado grande en relación con la cantidad de datos almacenados, puede haber un desperdicio de memoria.\n",
    "\n",
    "4. **No es Ordenado:** A diferencia de otros métodos de búsqueda, como la búsqueda binaria en una lista ordenada, la búsqueda hash no proporciona una forma de acceder a elementos en un orden específico. Los elementos se almacenan en ubicaciones basadas en la función de hash, lo que no garantiza un orden.\n",
    "\n",
    "5. **Tiempo de Inserción:** A veces, la inserción de nuevos elementos puede ser costosa debido a las colisiones y la necesidad de manejarlas correctamente. Esto puede ralentizar el proceso de inserción en comparación con otras estructuras de datos.\n",
    "\n",
    "6. **No es Ideal para Rangos:** Si necesitas buscar elementos dentro de un rango específico, la búsqueda hash no es la mejor opción, ya que no proporciona un orden natural para los elementos.\n",
    "\n",
    "En general, la búsqueda hash es una técnica poderosa y eficiente cuando se utiliza correctamente, pero es importante considerar estas desventajas y seleccionarla con base en los requisitos y características específicas del problema que estás resolviendo.\n"
   ]
  },
  {
   "cell_type": "markdown",
   "metadata": {},
   "source": [
    "<h2>Búsqueda en Árboles o Tree Search</h2>\n",
    "\n",
    "Es una estructura de búsqueda en árboles jerárquicos, los árboles son una estructura de datos que constan de nodos conectados por enlaces llamados ramas o aristas. En estos se empieza desde un nodo raíz, y se desciende con reglas específicas según la estructura del árbol. \n",
    "Ejemplo :"
   ]
  },
  {
   "cell_type": "code",
   "execution_count": 6,
   "metadata": {},
   "outputs": [],
   "source": [
    "class TreeNode:\n",
    "    def __init__(self, key, value):\n",
    "        self.key = key\n",
    "        self.value = value\n",
    "        self.left = None\n",
    "        self.right = None\n",
    "\n",
    "class BinarySearchTree:\n",
    "    def __init__(self):\n",
    "        self.root = None\n",
    "    \n",
    "    def insert(self, key, value):\n",
    "        self.root = self._insert_recursive(self.root, key, value)\n",
    "    \n",
    "    def _insert_recursive(self, node, key, value):\n",
    "        # If the node is None, create a new node and return it\n",
    "        if node is None:\n",
    "            return TreeNode(key, value)\n",
    "        \n",
    "        # If the key is less than the current node's key, insert on the left subtree\n",
    "        if key < node.key:\n",
    "            node.left = self._insert_recursive(node.left, key, value)\n",
    "        # If the key is greater than the current node's key, insert on the right subtree\n",
    "        elif key > node.key:\n",
    "            node.right = self._insert_recursive(node.right, key, value)\n",
    "        \n",
    "        return node\n",
    "    \n",
    "    @timing_decorator\n",
    "    def search(self, key):\n",
    "        return self._search_recursive(self.root, key)\n",
    "    \n",
    "    def _search_recursive(self, node, key):\n",
    "        # If the node is None or the key matches the current node's key, return the node\n",
    "        if node is None or node.key == key:\n",
    "            return node\n",
    "        \n",
    "        # If the key is less than the current node's key, search in the left subtree\n",
    "        if key < node.key:\n",
    "            return self._search_recursive(node.left, key)\n",
    "        # If the key is greater than the current node's key, search in the right subtree\n",
    "        else:\n",
    "            return self._search_recursive(node.right, key)\n"
   ]
  },
  {
   "cell_type": "markdown",
   "metadata": {},
   "source": [
    "En este ejemplo, hemos implementado una clase TreeNode para representar los nodos en el árbol binario de búsqueda, y una clase BinarySearchTree para manejar el árbol en sí. La función insert se encarga de agregar nodos al árbol de manera recursiva. La función search realiza una búsqueda en el árbol recursivamente, comparando las claves de los nodos. Si la clave se encuentra, se devuelve el nodo; de lo contrario, se devuelve None.\n",
    "\n",
    "Recuerda que hay otros tipos de árboles, como los árboles AVL, que optimizan la altura y el rendimiento de las operaciones de búsqueda. La elección del tipo de árbol depende de tus necesidades específicas y los requisitos de rendimiento."
   ]
  },
  {
   "cell_type": "code",
   "execution_count": 7,
   "metadata": {},
   "outputs": [
    {
     "name": "stdout",
     "output_type": "stream",
     "text": [
      "Function 'search' took 0.000004 seconds to execute.\n",
      "Key: 3, Value: banana\n"
     ]
    }
   ],
   "source": [
    "bst = BinarySearchTree()\n",
    "bst.insert(5, \"apple\")\n",
    "bst.insert(3, \"banana\")\n",
    "bst.insert(7, \"cherry\")\n",
    "\n",
    "result = bst.search(3)\n",
    "if result:\n",
    "    print(f\"Key: {result.key}, Value: {result.value}\")\n",
    "else:\n",
    "    print(\"Key not found.\")"
   ]
  }
 ],
 "metadata": {
  "kernelspec": {
   "display_name": "Python 3",
   "language": "python",
   "name": "python3"
  },
  "language_info": {
   "codemirror_mode": {
    "name": "ipython",
    "version": 3
   },
   "file_extension": ".py",
   "mimetype": "text/x-python",
   "name": "python",
   "nbconvert_exporter": "python",
   "pygments_lexer": "ipython3",
   "version": "3.9.13"
  },
  "orig_nbformat": 4
 },
 "nbformat": 4,
 "nbformat_minor": 2
}
